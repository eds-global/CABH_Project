{
 "cells": [
  {
   "cell_type": "markdown",
   "id": "6053bf07-6e00-4d97-9492-888dfc356d9e",
   "metadata": {},
   "source": [
    "## This script will calculate the mean value for each day (15 min interval). In this script there will be a csv created for each diffrent residential dependng on the data file. For eg if you give Robin's house date it will create a seprate  csv having mean value for ecah day for that house "
   ]
  },
  {
   "cell_type": "code",
   "execution_count": 1,
   "id": "c3b18573-f63c-4751-b0a3-f57b941fc1a3",
   "metadata": {},
   "outputs": [],
   "source": [
    "# importing the necessary libararies that will be needed for the computation\n",
    "import numpy as np\n",
    "import os\n",
    "import pandas as pd"
   ]
  },
  {
   "cell_type": "code",
   "execution_count": 3,
   "id": "846bcd7f-1aba-4212-ae33-2d8c38a150a3",
   "metadata": {},
   "outputs": [],
   "source": [
    "#  A dataframe name \"df\" is used to read the data file and create a dataframe with the help of pandas\n",
    "df=pd.read_csv(\"Dataset/Robin 1 Month May 15 min.csv\")"
   ]
  },
  {
   "cell_type": "code",
   "execution_count": 4,
   "id": "53b7dc2b-6347-44a4-a42e-c92eda411a69",
   "metadata": {},
   "outputs": [
    {
     "data": {
      "text/plain": [
       "(2976, 4)"
      ]
     },
     "execution_count": 4,
     "metadata": {},
     "output_type": "execute_result"
    }
   ],
   "source": [
    "# tellin the shape of data that is how many rows and columns are there \n",
    "df.shape"
   ]
  },
  {
   "cell_type": "markdown",
   "id": "0957b59b-08fc-4d8b-8d2f-19914a401296",
   "metadata": {},
   "source": [
    "#### Data Preprocessing"
   ]
  },
  {
   "cell_type": "code",
   "execution_count": 5,
   "id": "02ed99d1-0584-480f-96ac-896a1cf3b4e3",
   "metadata": {},
   "outputs": [
    {
     "data": {
      "text/html": [
       "<div>\n",
       "<style scoped>\n",
       "    .dataframe tbody tr th:only-of-type {\n",
       "        vertical-align: middle;\n",
       "    }\n",
       "\n",
       "    .dataframe tbody tr th {\n",
       "        vertical-align: top;\n",
       "    }\n",
       "\n",
       "    .dataframe thead th {\n",
       "        text-align: right;\n",
       "    }\n",
       "</style>\n",
       "<table border=\"1\" class=\"dataframe\">\n",
       "  <thead>\n",
       "    <tr style=\"text-align: right;\">\n",
       "      <th></th>\n",
       "      <th>CreatedDate</th>\n",
       "      <th>pm25_Robin: Living room</th>\n",
       "      <th>pm10_Robin: Living room</th>\n",
       "      <th>aqi_Robin: Living room</th>\n",
       "    </tr>\n",
       "  </thead>\n",
       "  <tbody>\n",
       "    <tr>\n",
       "      <th>0</th>\n",
       "      <td>False</td>\n",
       "      <td>False</td>\n",
       "      <td>False</td>\n",
       "      <td>False</td>\n",
       "    </tr>\n",
       "    <tr>\n",
       "      <th>1</th>\n",
       "      <td>False</td>\n",
       "      <td>False</td>\n",
       "      <td>False</td>\n",
       "      <td>False</td>\n",
       "    </tr>\n",
       "    <tr>\n",
       "      <th>2</th>\n",
       "      <td>False</td>\n",
       "      <td>False</td>\n",
       "      <td>False</td>\n",
       "      <td>False</td>\n",
       "    </tr>\n",
       "    <tr>\n",
       "      <th>3</th>\n",
       "      <td>False</td>\n",
       "      <td>False</td>\n",
       "      <td>False</td>\n",
       "      <td>False</td>\n",
       "    </tr>\n",
       "    <tr>\n",
       "      <th>4</th>\n",
       "      <td>False</td>\n",
       "      <td>False</td>\n",
       "      <td>False</td>\n",
       "      <td>False</td>\n",
       "    </tr>\n",
       "    <tr>\n",
       "      <th>...</th>\n",
       "      <td>...</td>\n",
       "      <td>...</td>\n",
       "      <td>...</td>\n",
       "      <td>...</td>\n",
       "    </tr>\n",
       "    <tr>\n",
       "      <th>2971</th>\n",
       "      <td>False</td>\n",
       "      <td>False</td>\n",
       "      <td>False</td>\n",
       "      <td>False</td>\n",
       "    </tr>\n",
       "    <tr>\n",
       "      <th>2972</th>\n",
       "      <td>False</td>\n",
       "      <td>False</td>\n",
       "      <td>False</td>\n",
       "      <td>False</td>\n",
       "    </tr>\n",
       "    <tr>\n",
       "      <th>2973</th>\n",
       "      <td>False</td>\n",
       "      <td>False</td>\n",
       "      <td>False</td>\n",
       "      <td>False</td>\n",
       "    </tr>\n",
       "    <tr>\n",
       "      <th>2974</th>\n",
       "      <td>False</td>\n",
       "      <td>False</td>\n",
       "      <td>False</td>\n",
       "      <td>False</td>\n",
       "    </tr>\n",
       "    <tr>\n",
       "      <th>2975</th>\n",
       "      <td>False</td>\n",
       "      <td>False</td>\n",
       "      <td>False</td>\n",
       "      <td>False</td>\n",
       "    </tr>\n",
       "  </tbody>\n",
       "</table>\n",
       "<p>2976 rows × 4 columns</p>\n",
       "</div>"
      ],
      "text/plain": [
       "      CreatedDate  pm25_Robin: Living room  pm10_Robin: Living room  \\\n",
       "0           False                    False                    False   \n",
       "1           False                    False                    False   \n",
       "2           False                    False                    False   \n",
       "3           False                    False                    False   \n",
       "4           False                    False                    False   \n",
       "...           ...                      ...                      ...   \n",
       "2971        False                    False                    False   \n",
       "2972        False                    False                    False   \n",
       "2973        False                    False                    False   \n",
       "2974        False                    False                    False   \n",
       "2975        False                    False                    False   \n",
       "\n",
       "      aqi_Robin: Living room  \n",
       "0                      False  \n",
       "1                      False  \n",
       "2                      False  \n",
       "3                      False  \n",
       "4                      False  \n",
       "...                      ...  \n",
       "2971                   False  \n",
       "2972                   False  \n",
       "2973                   False  \n",
       "2974                   False  \n",
       "2975                   False  \n",
       "\n",
       "[2976 rows x 4 columns]"
      ]
     },
     "execution_count": 5,
     "metadata": {},
     "output_type": "execute_result"
    }
   ],
   "source": [
    "# checking for any null values in the data\n",
    "df.isnull()"
   ]
  },
  {
   "cell_type": "code",
   "execution_count": 6,
   "id": "fb5a8328-12ca-4c56-992f-2c85123f7237",
   "metadata": {},
   "outputs": [
    {
     "data": {
      "text/plain": [
       "CreatedDate                0\n",
       "pm25_Robin: Living room    0\n",
       "pm10_Robin: Living room    0\n",
       "aqi_Robin: Living room     0\n",
       "dtype: int64"
      ]
     },
     "execution_count": 6,
     "metadata": {},
     "output_type": "execute_result"
    }
   ],
   "source": [
    "# total count of null vlaues in the dataset \n",
    "df.isnull().sum()"
   ]
  },
  {
   "cell_type": "code",
   "execution_count": 7,
   "id": "fd88f428-6bcd-413c-b378-9a8ef94db2d3",
   "metadata": {},
   "outputs": [],
   "source": [
    "# crateing a copy of dataset for any futher manipulation\n",
    "df_copy=df.copy()"
   ]
  },
  {
   "cell_type": "code",
   "execution_count": 8,
   "id": "9dc5e014-a604-4c0c-92bc-e93cc850526f",
   "metadata": {},
   "outputs": [
    {
     "data": {
      "text/html": [
       "<div>\n",
       "<style scoped>\n",
       "    .dataframe tbody tr th:only-of-type {\n",
       "        vertical-align: middle;\n",
       "    }\n",
       "\n",
       "    .dataframe tbody tr th {\n",
       "        vertical-align: top;\n",
       "    }\n",
       "\n",
       "    .dataframe thead th {\n",
       "        text-align: right;\n",
       "    }\n",
       "</style>\n",
       "<table border=\"1\" class=\"dataframe\">\n",
       "  <thead>\n",
       "    <tr style=\"text-align: right;\">\n",
       "      <th></th>\n",
       "      <th>CreatedDate</th>\n",
       "      <th>pm25_Robin: Living room</th>\n",
       "      <th>pm10_Robin: Living room</th>\n",
       "      <th>aqi_Robin: Living room</th>\n",
       "    </tr>\n",
       "  </thead>\n",
       "  <tbody>\n",
       "    <tr>\n",
       "      <th>0</th>\n",
       "      <td>01-05-2024 00:00</td>\n",
       "      <td>38</td>\n",
       "      <td>100</td>\n",
       "      <td>100</td>\n",
       "    </tr>\n",
       "    <tr>\n",
       "      <th>1</th>\n",
       "      <td>01-05-2024 00:15</td>\n",
       "      <td>38</td>\n",
       "      <td>99</td>\n",
       "      <td>99</td>\n",
       "    </tr>\n",
       "    <tr>\n",
       "      <th>2</th>\n",
       "      <td>01-05-2024 00:30</td>\n",
       "      <td>38</td>\n",
       "      <td>99</td>\n",
       "      <td>99</td>\n",
       "    </tr>\n",
       "    <tr>\n",
       "      <th>3</th>\n",
       "      <td>01-05-2024 00:45</td>\n",
       "      <td>38</td>\n",
       "      <td>100</td>\n",
       "      <td>100</td>\n",
       "    </tr>\n",
       "    <tr>\n",
       "      <th>4</th>\n",
       "      <td>01-05-2024 01:00</td>\n",
       "      <td>38</td>\n",
       "      <td>100</td>\n",
       "      <td>100</td>\n",
       "    </tr>\n",
       "    <tr>\n",
       "      <th>...</th>\n",
       "      <td>...</td>\n",
       "      <td>...</td>\n",
       "      <td>...</td>\n",
       "      <td>...</td>\n",
       "    </tr>\n",
       "    <tr>\n",
       "      <th>2971</th>\n",
       "      <td>31-05-2024 22:45</td>\n",
       "      <td>131</td>\n",
       "      <td>325</td>\n",
       "      <td>308</td>\n",
       "    </tr>\n",
       "    <tr>\n",
       "      <th>2972</th>\n",
       "      <td>31-05-2024 23:00</td>\n",
       "      <td>128</td>\n",
       "      <td>321</td>\n",
       "      <td>306</td>\n",
       "    </tr>\n",
       "    <tr>\n",
       "      <th>2973</th>\n",
       "      <td>31-05-2024 23:15</td>\n",
       "      <td>121</td>\n",
       "      <td>307</td>\n",
       "      <td>301</td>\n",
       "    </tr>\n",
       "    <tr>\n",
       "      <th>2974</th>\n",
       "      <td>31-05-2024 23:30</td>\n",
       "      <td>114</td>\n",
       "      <td>291</td>\n",
       "      <td>280</td>\n",
       "    </tr>\n",
       "    <tr>\n",
       "      <th>2975</th>\n",
       "      <td>31-05-2024 23:45</td>\n",
       "      <td>108</td>\n",
       "      <td>271</td>\n",
       "      <td>260</td>\n",
       "    </tr>\n",
       "  </tbody>\n",
       "</table>\n",
       "<p>2976 rows × 4 columns</p>\n",
       "</div>"
      ],
      "text/plain": [
       "           CreatedDate  pm25_Robin: Living room  pm10_Robin: Living room  \\\n",
       "0     01-05-2024 00:00                       38                      100   \n",
       "1     01-05-2024 00:15                       38                       99   \n",
       "2     01-05-2024 00:30                       38                       99   \n",
       "3     01-05-2024 00:45                       38                      100   \n",
       "4     01-05-2024 01:00                       38                      100   \n",
       "...                ...                      ...                      ...   \n",
       "2971  31-05-2024 22:45                      131                      325   \n",
       "2972  31-05-2024 23:00                      128                      321   \n",
       "2973  31-05-2024 23:15                      121                      307   \n",
       "2974  31-05-2024 23:30                      114                      291   \n",
       "2975  31-05-2024 23:45                      108                      271   \n",
       "\n",
       "      aqi_Robin: Living room  \n",
       "0                        100  \n",
       "1                         99  \n",
       "2                         99  \n",
       "3                        100  \n",
       "4                        100  \n",
       "...                      ...  \n",
       "2971                     308  \n",
       "2972                     306  \n",
       "2973                     301  \n",
       "2974                     280  \n",
       "2975                     260  \n",
       "\n",
       "[2976 rows x 4 columns]"
      ]
     },
     "execution_count": 8,
     "metadata": {},
     "output_type": "execute_result"
    }
   ],
   "source": [
    "# dropping the null vlaues from the dataset \n",
    "df.dropna()"
   ]
  },
  {
   "cell_type": "code",
   "execution_count": 9,
   "id": "23d74373-7e0e-40cd-abbe-ed1c021020f4",
   "metadata": {},
   "outputs": [
    {
     "name": "stdout",
     "output_type": "stream",
     "text": [
      "CreatedDate                2976\n",
      "pm25_Robin: Living room    2976\n",
      "pm10_Robin: Living room    2976\n",
      "aqi_Robin: Living room     2976\n",
      "dtype: int64\n"
     ]
    }
   ],
   "source": [
    "# Count non-null values in each column\n",
    "non_null_counts = df.count()\n",
    "# Display the counts\n",
    "print(non_null_counts)"
   ]
  },
  {
   "cell_type": "code",
   "execution_count": 10,
   "id": "8f6337cc-ccfc-4de5-b019-edbbf7dd17ea",
   "metadata": {},
   "outputs": [
    {
     "name": "stdout",
     "output_type": "stream",
     "text": [
      "Index(['Date', 'CreatedDate', 'pm25_Robin: Living room',\n",
      "       'pm10_Robin: Living room', 'aqi_Robin: Living room'],\n",
      "      dtype='object')\n"
     ]
    }
   ],
   "source": [
    "# Convert CreatedDate to datetime, coercing errors and specifying the format\n",
    "df['CreatedDate'] = pd.to_datetime(df['CreatedDate'], format='%d-%m-%Y %H:%M', errors='coerce')\n",
    "\n",
    "# Drop rows with invalid dates\n",
    "df = df.dropna(subset=['CreatedDate'])\n",
    "# Extract the date part\n",
    "df['Date'] = df['CreatedDate'].dt.date\n",
    "\n",
    "# Group by the date and calculate the mean for each group, ignoring the CreatedDate column\n",
    "daily_means = df.groupby('Date').mean().reset_index()\n",
    "\n",
    "# Trim any extra spaces from the column names\n",
    "daily_means.columns = daily_means.columns.str.strip()\n",
    "# Rename the columns appropriately\n",
    "daily_means = daily_means.rename(columns={\n",
    "    'pm25_Robin: Living room': 'pm25',\n",
    "    'pm10_Robin: Living room': 'pm10',\n",
    "    'aqi_Robin: Living room': 'aqi'\n",
    "})\n",
    "# Convert Date back to string in the desired format\n",
    "daily_means['Date'] = daily_means['Date'].astype(str).apply(lambda x: pd.to_datetime(x).strftime('%d-%m-%Y'))\n",
    "# Select only the required columns\n",
    "final_df = daily_means[['Date', 'pm25', 'pm10', 'aqi']]"
   ]
  },
  {
   "cell_type": "code",
   "execution_count": 12,
   "id": "e102abc7-7fef-42ac-bcd7-c66dacbec8ac",
   "metadata": {},
   "outputs": [
    {
     "data": {
      "text/html": [
       "<div>\n",
       "<style scoped>\n",
       "    .dataframe tbody tr th:only-of-type {\n",
       "        vertical-align: middle;\n",
       "    }\n",
       "\n",
       "    .dataframe tbody tr th {\n",
       "        vertical-align: top;\n",
       "    }\n",
       "\n",
       "    .dataframe thead th {\n",
       "        text-align: right;\n",
       "    }\n",
       "</style>\n",
       "<table border=\"1\" class=\"dataframe\">\n",
       "  <thead>\n",
       "    <tr style=\"text-align: right;\">\n",
       "      <th></th>\n",
       "      <th>Date</th>\n",
       "      <th>pm25</th>\n",
       "      <th>pm10</th>\n",
       "      <th>aqi</th>\n",
       "    </tr>\n",
       "  </thead>\n",
       "  <tbody>\n",
       "    <tr>\n",
       "      <th>0</th>\n",
       "      <td>01-05-2024</td>\n",
       "      <td>40.010417</td>\n",
       "      <td>110.802083</td>\n",
       "      <td>105.135417</td>\n",
       "    </tr>\n",
       "    <tr>\n",
       "      <th>1</th>\n",
       "      <td>02-05-2024</td>\n",
       "      <td>48.208333</td>\n",
       "      <td>116.239583</td>\n",
       "      <td>115.770833</td>\n",
       "    </tr>\n",
       "    <tr>\n",
       "      <th>2</th>\n",
       "      <td>03-05-2024</td>\n",
       "      <td>79.687500</td>\n",
       "      <td>177.218750</td>\n",
       "      <td>173.479167</td>\n",
       "    </tr>\n",
       "    <tr>\n",
       "      <th>3</th>\n",
       "      <td>04-05-2024</td>\n",
       "      <td>97.729167</td>\n",
       "      <td>262.187500</td>\n",
       "      <td>230.437500</td>\n",
       "    </tr>\n",
       "    <tr>\n",
       "      <th>4</th>\n",
       "      <td>05-05-2024</td>\n",
       "      <td>80.187500</td>\n",
       "      <td>229.656250</td>\n",
       "      <td>195.614583</td>\n",
       "    </tr>\n",
       "  </tbody>\n",
       "</table>\n",
       "</div>"
      ],
      "text/plain": [
       "         Date       pm25        pm10         aqi\n",
       "0  01-05-2024  40.010417  110.802083  105.135417\n",
       "1  02-05-2024  48.208333  116.239583  115.770833\n",
       "2  03-05-2024  79.687500  177.218750  173.479167\n",
       "3  04-05-2024  97.729167  262.187500  230.437500\n",
       "4  05-05-2024  80.187500  229.656250  195.614583"
      ]
     },
     "execution_count": 12,
     "metadata": {},
     "output_type": "execute_result"
    }
   ],
   "source": [
    "final_df.head()"
   ]
  },
  {
   "cell_type": "code",
   "execution_count": 13,
   "id": "8691d333-f8d2-4338-9650-e75560eefe55",
   "metadata": {},
   "outputs": [
    {
     "name": "stdin",
     "output_type": "stream",
     "text": [
      "Do you want to save the DataFrame to a CSV file? (yes/no):  no\n"
     ]
    },
    {
     "name": "stdout",
     "output_type": "stream",
     "text": [
      "The DataFrame was not saved.\n"
     ]
    }
   ],
   "source": [
    "# Ask user if they want to save the DataFrame to a CSV file\n",
    "save_to_csv = input(\"Do you want to save the DataFrame to a CSV file? (yes/no): \").strip().lower()\n",
    "\n",
    "if save_to_csv == 'yes':\n",
    "    # Find the next available filename\n",
    "    file_index = 1\n",
    "    while os.path.exists(f'Robin_LR_avg_{file_index}.csv'):  #Change the fle name according to name of the residential eg-> 'Robin_LR_' can be changed to 'Lakshmi_LR_'\n",
    "        file_index += 1\n",
    "\n",
    "    file_name = f'Robin_LR_avg_{file_index}.csv'  #change the name here also\n",
    "    final_df.to_csv(file_name, index=False)\n",
    "    print(f\"The DataFrame has been saved to {file_name}\")\n",
    "else:\n",
    "    print(\"The DataFrame was not saved.\")\n"
   ]
  }
 ],
 "metadata": {
  "kernelspec": {
   "display_name": "Python 3 (ipykernel)",
   "language": "python",
   "name": "python3"
  },
  "language_info": {
   "codemirror_mode": {
    "name": "ipython",
    "version": 3
   },
   "file_extension": ".py",
   "mimetype": "text/x-python",
   "name": "python",
   "nbconvert_exporter": "python",
   "pygments_lexer": "ipython3",
   "version": "3.11.7"
  }
 },
 "nbformat": 4,
 "nbformat_minor": 5
}
